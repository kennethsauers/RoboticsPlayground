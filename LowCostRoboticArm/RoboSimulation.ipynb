{
 "cells": [
  {
   "cell_type": "code",
   "execution_count": 1,
   "metadata": {},
   "outputs": [],
   "source": [
    "import pybullet as p\n",
    "import ipywidgets as widgets\n",
    "from ipywidgets import interact, interactive, fixed, interact_manual\n",
    "from IPython.display import display\n",
    "import time\n",
    "import pybullet_data\n",
    "import serial"
   ]
  },
  {
   "cell_type": "code",
   "execution_count": 2,
   "metadata": {},
   "outputs": [
    {
     "name": "stdout",
     "output_type": "stream",
     "text": [
      "[0.0, 0.0, 0.0, 0.0, 0.0, 0.0, 0.0, 0.0]\n"
     ]
    }
   ],
   "source": [
    "WayPoints = []\n",
    "stepSize = 125\n",
    "numMoveableJoints = 6\n",
    "TimeStep = 1./120.\n",
    "ser = serial.Serial(\"COM8\", 9600, timeout = 1)\n",
    "\n",
    "physicsClient = p.connect(p.GUI)#or p.DIRECT for non-graphical version\n",
    "p.setAdditionalSearchPath(pybullet_data.getDataPath()) #optionally\n",
    "planeId = p.loadURDF(\"plane.urdf\")\n",
    "cubeStartPos = [0,0,0]\n",
    "cubeStartOrientation = p.getQuaternionFromEuler([0,0,0])\n",
    "robot = p.loadURDF(\"C:/Users/kenne/Downloads/kuka_experimental/kuka_kr16_support/urdf/kr16_2.urdf\",cubeStartPos, cubeStartOrientation, useFixedBase = 1)\n",
    "print([j[0] for j in p.getJointStates(robot,range(8))])\n",
    "p.setRealTimeSimulation(0)\n",
    "p.setGravity(0,0,-9.8)"
   ]
  },
  {
   "cell_type": "code",
   "execution_count": 3,
   "metadata": {},
   "outputs": [],
   "source": [
    "p.setRealTimeSimulation(0)"
   ]
  },
  {
   "cell_type": "code",
   "execution_count": 4,
   "metadata": {},
   "outputs": [],
   "source": [
    "def moveTo(ori, loc):\n",
    "    orientation = p.getQuaternionFromEuler(ori)\n",
    "    tartgetPositionJoints = p.calculateInverseKinematics(robot,numMoveableJoints,loc, targetOrientation = orientation)\n",
    "    p.setJointMotorControlArray(robot, range(numMoveableJoints), p.POSITION_CONTROL,targetPositions= tartgetPositionJoints)"
   ]
  },
  {
   "cell_type": "code",
   "execution_count": 5,
   "metadata": {},
   "outputs": [],
   "source": [
    "def moveAndSim(ori =[0,0,0], loc = [0,0,0]):\n",
    "    moveTo(ori, loc)\n",
    "    for i in range (stepSize):\n",
    "        p.stepSimulation()\n",
    "        time.sleep(TimeStep)"
   ]
  },
  {
   "cell_type": "code",
   "execution_count": 6,
   "metadata": {},
   "outputs": [],
   "source": [
    "def radToDeg(x):\n",
    "    return (x*180/3.14)\n",
    "\n",
    "def moveRobotViaSerial(SimulatedRobot):\n",
    "    sleepTime = 2\n",
    "    BaseAngle = radToDeg(p.getJointStates(SimulatedRobot,[0])[0][0]) + 90\n",
    "    ShoulderAngle = abs(radToDeg(p.getJointStates(SimulatedRobot,[1])[0][0]) +180)\n",
    "    ElbowAngle = -(radToDeg(p.getJointStates(SimulatedRobot,[2])[0][0])) + 180\n",
    "    WristAngle = radToDeg(p.getJointStates(SimulatedRobot,[3])[0][0]) + 90\n",
    "    print(\"Base Angle | \", BaseAngle,\"\\nShoulderAngle | \", ShoulderAngle, \"\\nElbowAngle | \", ElbowAngle,\"\\nWristAngle | \", WristAngle)\n",
    "    ser.write(bytes(\"Servo4 \" + str(int(BaseAngle)), 'ascii'))\n",
    "    time.sleep(sleepTime)\n",
    "    ser.write(bytes(\"Servo3 \" + str(int(ShoulderAngle)), 'ascii'))\n",
    "    time.sleep(sleepTime)\n",
    "    ser.write(bytes(\"Servo2 \" + str(int(ElbowAngle)), 'ascii'))\n",
    "    time.sleep(sleepTime)\n",
    "    ser.write(bytes(\"Servo1 \" + str(int(WristAngle)), 'ascii'))\n",
    "    time.sleep(sleepTime)\n",
    "    data = ser.read(88)\n",
    "    print(data)"
   ]
  },
  {
   "cell_type": "code",
   "execution_count": 7,
   "metadata": {},
   "outputs": [
    {
     "name": "stdout",
     "output_type": "stream",
     "text": [
      "Base Angle in radian 0.0\n",
      "Shoulder Angle in radian 0.0\n",
      "Elbow Angle in radian 0.0\n",
      "Wrist Angle in radian 0.0\n"
     ]
    }
   ],
   "source": [
    "print(\"Base Angle in radian\" , p.getJointStates(robot,[0])[0][0])\n",
    "print(\"Shoulder Angle in radian\" , p.getJointStates(robot,[1])[0][0])\n",
    "print(\"Elbow Angle in radian\" , p.getJointStates(robot,[2])[0][0])\n",
    "print(\"Wrist Angle in radian\" , p.getJointStates(robot,[3])[0][0])"
   ]
  },
  {
   "cell_type": "code",
   "execution_count": 8,
   "metadata": {},
   "outputs": [
    {
     "data": {
      "application/vnd.jupyter.widget-view+json": {
       "model_id": "8a3f46ae89ba41038cf4e150a8580e40",
       "version_major": 2,
       "version_minor": 0
      },
      "text/plain": [
       "interactive(children=(FloatSlider(value=1.0, description='x', max=2.0, min=-2.0, step=0.05), Output()), _dom_c…"
      ]
     },
     "metadata": {},
     "output_type": "display_data"
    },
    {
     "data": {
      "application/vnd.jupyter.widget-view+json": {
       "model_id": "c0fd326c9ec941f9b82f5c78081c0b6b",
       "version_major": 2,
       "version_minor": 0
      },
      "text/plain": [
       "interactive(children=(FloatSlider(value=0.0, description='y', max=2.0, min=-2.0, step=0.05), Output()), _dom_c…"
      ]
     },
     "metadata": {},
     "output_type": "display_data"
    },
    {
     "data": {
      "application/vnd.jupyter.widget-view+json": {
       "model_id": "690047683358437394279ff394eb5a45",
       "version_major": 2,
       "version_minor": 0
      },
      "text/plain": [
       "interactive(children=(FloatSlider(value=0.5, description='z', max=3.0, step=0.05), Output()), _dom_classes=('w…"
      ]
     },
     "metadata": {},
     "output_type": "display_data"
    },
    {
     "data": {
      "application/vnd.jupyter.widget-view+json": {
       "model_id": "d247aabb22e347ceb8563686b94d70a9",
       "version_major": 2,
       "version_minor": 0
      },
      "text/plain": [
       "interactive(children=(IntSlider(value=90, description='WristAngle', max=180, min=-180), Output()), _dom_classe…"
      ]
     },
     "metadata": {},
     "output_type": "display_data"
    },
    {
     "data": {
      "application/vnd.jupyter.widget-view+json": {
       "model_id": "ff3cb2ce16724053bf9b29045294dd30",
       "version_major": 2,
       "version_minor": 0
      },
      "text/plain": [
       "Button(description='Move Simulation', style=ButtonStyle())"
      ]
     },
     "metadata": {},
     "output_type": "display_data"
    },
    {
     "data": {
      "application/vnd.jupyter.widget-view+json": {
       "model_id": "e8628529e7e4426c877d08e360491ee0",
       "version_major": 2,
       "version_minor": 0
      },
      "text/plain": [
       "Button(description='Move Robot', style=ButtonStyle())"
      ]
     },
     "metadata": {},
     "output_type": "display_data"
    },
    {
     "data": {
      "text/plain": [
       "' \\ndef helperSaveWaypoint(x):\\n    WayPoints = WayPoints.append(x)\\n    \\nSaveWaypoint = widgets.Button(description=\"Save Waypoint\")\\ndisplay(SaveWaypoint)\\ndef saveWayPoint(b):\\n    #WayPoints = WayPoints.append([GlobalOrientation, GlobalPosition])\\n    helperSaveWaypoint([GlobalOrientation, GlobalPosition])\\n    print(\"Waypoint Saved\", [GlobalOrientation, GlobalPosition])\\nSaveWaypoint.on_click(saveWayPoint)\\n'"
      ]
     },
     "execution_count": 8,
     "metadata": {},
     "output_type": "execute_result"
    }
   ],
   "source": [
    "GlobalPosition = [0,0,.5]\n",
    "GlobalOrientation = [0,0,0]\n",
    "def setx(x):\n",
    "    GlobalPosition[0] = x\n",
    "def sety(y):\n",
    "    GlobalPosition[1] = y\n",
    "def setz(z):\n",
    "    GlobalPosition[2] = z\n",
    "    \n",
    "def setThetaX(ThetaX):\n",
    "    GlobalOrientation[0] = ThetaX * 3.14 / 180\n",
    "def setThetaY(WristAngle):\n",
    "    GlobalOrientation[1] = WristAngle * 3.14 / 180\n",
    "def setThetaZ(ThetaZ):\n",
    "    GlobalOrientation[2] = ThetaZ * 3.14 / 180\n",
    "\n",
    "interact(setx, x=widgets.FloatSlider(min=-2, max=2, step=.05, value=1));\n",
    "interact(sety, y=widgets.FloatSlider(min=-2, max=2, step=.05, value=0));\n",
    "interact(setz, z=widgets.FloatSlider(min=0, max=3, step=.05, value=0.5));\n",
    "\n",
    "\n",
    "#interact(setThetaX, ThetaX=widgets.IntSlider(min=-90, max=90, step=1, value=0));\n",
    "interact(setThetaY, WristAngle=widgets.IntSlider(min=-180, max=180, step=1, value=90));\n",
    "#interact(setThetaZ, ThetaZ=widgets.IntSlider(min=-90, max=90, step=1, value=0));\n",
    "\n",
    "SimulateAndMove = widgets.Button(description=\"Move Simulation\")\n",
    "display(SimulateAndMove)\n",
    "def MoveAndSim(b):\n",
    "    moveAndSim(ori = GlobalOrientation, loc = GlobalPosition)\n",
    "    #print(GlobalPosition)\n",
    "SimulateAndMove.on_click(MoveAndSim)\n",
    "\n",
    "SimulateAndMoveRobot = widgets.Button(description=\"Move Robot\")\n",
    "display(SimulateAndMoveRobot)\n",
    "def MoveAndSimRobot(b):\n",
    "    moveRobotViaSerial(robot)\n",
    "    #print(GlobalPosition)\n",
    "SimulateAndMoveRobot.on_click(MoveAndSimRobot)\n",
    "\n",
    "\"\"\" \n",
    "def helperSaveWaypoint(x):\n",
    "    WayPoints = WayPoints.append(x)\n",
    "    \n",
    "SaveWaypoint = widgets.Button(description=\"Save Waypoint\")\n",
    "display(SaveWaypoint)\n",
    "def saveWayPoint(b):\n",
    "    #WayPoints = WayPoints.append([GlobalOrientation, GlobalPosition])\n",
    "    helperSaveWaypoint([GlobalOrientation, GlobalPosition])\n",
    "    print(\"Waypoint Saved\", [GlobalOrientation, GlobalPosition])\n",
    "SaveWaypoint.on_click(saveWayPoint)\n",
    "\"\"\""
   ]
  },
  {
   "cell_type": "code",
   "execution_count": 9,
   "metadata": {},
   "outputs": [
    {
     "data": {
      "application/vnd.jupyter.widget-view+json": {
       "model_id": "c6f7019bfb224d809bd07ec0fdb22ee4",
       "version_major": 2,
       "version_minor": 0
      },
      "text/plain": [
       "Button(description='Move To Start Way Point', style=ButtonStyle())"
      ]
     },
     "metadata": {},
     "output_type": "display_data"
    },
    {
     "data": {
      "application/vnd.jupyter.widget-view+json": {
       "model_id": "10a16993e3634198b61bcc09e65982ae",
       "version_major": 2,
       "version_minor": 0
      },
      "text/plain": [
       "Button(description='Foward Waypoint', style=ButtonStyle())"
      ]
     },
     "metadata": {},
     "output_type": "display_data"
    },
    {
     "data": {
      "application/vnd.jupyter.widget-view+json": {
       "model_id": "f8b58a64d43b4d398eff6458ce705037",
       "version_major": 2,
       "version_minor": 0
      },
      "text/plain": [
       "Button(description='Back Waypoint', style=ButtonStyle())"
      ]
     },
     "metadata": {},
     "output_type": "display_data"
    }
   ],
   "source": [
    "Start = widgets.Button(description=\"Move To Start Way Point\")\n",
    "display(Start)\n",
    "Foward = widgets.Button(description=\"Foward Waypoint\")\n",
    "display(Foward)\n",
    "Back = widgets.Button(description=\"Back Waypoint\")\n",
    "display(Back)\n",
    "WaypointCounter = 0\n",
    "\n",
    "def StartFunction(b):\n",
    "    moveAndSim(WayPoints[0][0], WayPoints[0][1])\n",
    "    print(\"Move To Start\")\n",
    "Start.on_click(StartFunction)\n",
    "\n",
    "def ForwardFunction(b):\n",
    "    WaypointCounter = WaypointCounter + 1\n",
    "    moveAndSim(WayPoints[WaypointCounter][0], WayPoints[WaypointCounter][1])\n",
    "    print(\"Way Point | \", WaypointCounter)\n",
    "Start.on_click(StartFunction)\n",
    "\n",
    "def BackFunction(b): \n",
    "    for i in range(len(WayPoints)):\n",
    "        moveToWaypoint(WayPoints[i])\n",
    "        print(\"Way Point | \", WayPoints[i])\n",
    "Start.on_click(StartFunction)\n",
    "Foward.on_click(ForwardFunction)\n",
    "Back.on_click(BackFunction)"
   ]
  },
  {
   "cell_type": "code",
   "execution_count": 10,
   "metadata": {},
   "outputs": [
    {
     "name": "stdout",
     "output_type": "stream",
     "text": [
      "[]\n"
     ]
    }
   ],
   "source": [
    "print(WayPoints)"
   ]
  },
  {
   "cell_type": "code",
   "execution_count": 7,
   "metadata": {
    "scrolled": true
   },
   "outputs": [
    {
     "data": {
      "application/vnd.jupyter.widget-view+json": {
       "model_id": "f4fb9a47dfae441386d4e4a725507ef9",
       "version_major": 2,
       "version_minor": 0
      },
      "text/plain": [
       "Button(description='x+', style=ButtonStyle())"
      ]
     },
     "metadata": {},
     "output_type": "display_data"
    },
    {
     "data": {
      "application/vnd.jupyter.widget-view+json": {
       "model_id": "6b40d25cbffa4e2aa7bfa99da1571e65",
       "version_major": 2,
       "version_minor": 0
      },
      "text/plain": [
       "Button(description='x-', style=ButtonStyle())"
      ]
     },
     "metadata": {},
     "output_type": "display_data"
    },
    {
     "data": {
      "application/vnd.jupyter.widget-view+json": {
       "model_id": "1077208a643f45098f77eb9cb24392c0",
       "version_major": 2,
       "version_minor": 0
      },
      "text/plain": [
       "Button(description='y+', style=ButtonStyle())"
      ]
     },
     "metadata": {},
     "output_type": "display_data"
    },
    {
     "data": {
      "application/vnd.jupyter.widget-view+json": {
       "model_id": "8e002af666ea44c3ad0c9e0ebe3e4f1d",
       "version_major": 2,
       "version_minor": 0
      },
      "text/plain": [
       "Button(description='y-', style=ButtonStyle())"
      ]
     },
     "metadata": {},
     "output_type": "display_data"
    },
    {
     "data": {
      "application/vnd.jupyter.widget-view+json": {
       "model_id": "05e04e58f1914f6c88e18fa358dae93f",
       "version_major": 2,
       "version_minor": 0
      },
      "text/plain": [
       "Button(description='z+', style=ButtonStyle())"
      ]
     },
     "metadata": {},
     "output_type": "display_data"
    },
    {
     "data": {
      "application/vnd.jupyter.widget-view+json": {
       "model_id": "e6647ce06dc6449b8672f3eb1a7e88ae",
       "version_major": 2,
       "version_minor": 0
      },
      "text/plain": [
       "Button(description='z-', style=ButtonStyle())"
      ]
     },
     "metadata": {},
     "output_type": "display_data"
    }
   ],
   "source": [
    "buttonxdown = widgets.Button(description=\"x-\")\n",
    "buttonxplus = widgets.Button(description=\"x+\")\n",
    "buttonydown = widgets.Button(description=\"y-\")\n",
    "buttonyplus = widgets.Button(description=\"y+\")\n",
    "buttonzdown = widgets.Button(description=\"z-\")\n",
    "buttonzplus = widgets.Button(description=\"z+\")\n",
    "output = widgets.Output()\n",
    "location = [1,0,.5]\n",
    "\n",
    "display(buttonxplus)\n",
    "def xup(b):\n",
    "    location[0] = location[0] + .1\n",
    "    moveAndSim(loc = location)\n",
    "    print(location)\n",
    "\n",
    "display(buttonxdown)\n",
    "def xdown(b):\n",
    "    location[0] = location[0] - .1\n",
    "    moveAndSim(loc = location)\n",
    "    print(location)\n",
    "    \n",
    "display(buttonyplus)\n",
    "def yup(b):\n",
    "    location[1] = location[1] + .1\n",
    "    moveAndSim(loc = location)\n",
    "    print(location)\n",
    "\n",
    "display(buttonydown)\n",
    "def ydown(b):\n",
    "    location[1] = location[1] - .1\n",
    "    moveAndSim(loc = location)\n",
    "    print(location)\n",
    "\n",
    "display(buttonzplus)\n",
    "def zup(b):\n",
    "    location[2] = location[2] + .1\n",
    "    moveAndSim(loc = location)\n",
    "    print(location)\n",
    "\n",
    "display(buttonzdown)\n",
    "def zdown(b):\n",
    "    location[2] = location[2] - .1\n",
    "    moveAndSim(loc = location)\n",
    "    print(location)\n",
    "    \n",
    "    \n",
    "buttonxplus.on_click(xup)\n",
    "buttonxdown.on_click(xdown)\n",
    "buttonyplus.on_click(yup)\n",
    "buttonydown.on_click(ydown)\n",
    "buttonzplus.on_click(zup)\n",
    "buttonzdown.on_click(zdown)"
   ]
  }
 ],
 "metadata": {
  "kernelspec": {
   "display_name": "Python 3",
   "language": "python",
   "name": "python3"
  },
  "language_info": {
   "codemirror_mode": {
    "name": "ipython",
    "version": 3
   },
   "file_extension": ".py",
   "mimetype": "text/x-python",
   "name": "python",
   "nbconvert_exporter": "python",
   "pygments_lexer": "ipython3",
   "version": "3.8.5"
  }
 },
 "nbformat": 4,
 "nbformat_minor": 4
}
